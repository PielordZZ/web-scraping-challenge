{
 "cells": [
  {
   "cell_type": "markdown",
   "metadata": {},
   "source": [
    "Web Scraping Mars Information"
   ]
  },
  {
   "cell_type": "code",
   "execution_count": 1,
   "metadata": {},
   "outputs": [],
   "source": [
    "from bs4 import BeautifulSoup as bs\n",
    "from webdriver_manager.chrome import ChromeDriverManager\n",
    "from splinter import Browser\n",
    "import time\n",
    "import pandas as pd\n"
   ]
  },
  {
   "cell_type": "code",
   "execution_count": 2,
   "metadata": {},
   "outputs": [
    {
     "name": "stderr",
     "output_type": "stream",
     "text": [
      "\n",
      "\n",
      "====== WebDriver manager ======\n",
      "Could not get version for google-chrome with the command:  powershell \"$ErrorActionPreference='silentlycontinue' ; (Get-Item -Path \"$env:PROGRAMFILES\\Google\\Chrome\\Application\\chrome.exe\").VersionInfo.FileVersion ; if (-not $? -or $? -match $error) { (Get-Item -Path \"$env:PROGRAMFILES(x86)\\Google\\Chrome\\Application\\chrome.exe\").VersionInfo.FileVersion } if (-not $? -or $? -match $error) { (Get-Item -Path \"$env:LOCALAPPDATA\\Google\\Chrome\\Application\\chrome.exe\").VersionInfo.FileVersion } if (-not $? -or $? -match $error) { reg query \"HKCU\\SOFTWARE\\Google\\Chrome\\BLBeacon\" /v version } if (-not $? -or $? -match $error) { reg query \"HKLM\\SOFTWARE\\Wow6432Node\\Microsoft\\Windows\\CurrentVersion\\Uninstall\\Google Chrome\" /v version }\"\n",
      "Current google-chrome version is UNKNOWN\n",
      "Get LATEST chromedriver version for UNKNOWN google-chrome\n",
      "Trying to download new driver from https://chromedriver.storage.googleapis.com/100.0.4896.60/chromedriver_win32.zip\n",
      "Driver has been saved in cache [C:\\Users\\zzpie\\.wdm\\drivers\\chromedriver\\win32\\100.0.4896.60]\n"
     ]
    }
   ],
   "source": [
    "executable_path = {'executable_path': ChromeDriverManager().install()}\n",
    "browser = Browser('chrome', **executable_path, headless=False)\n"
   ]
  },
  {
   "cell_type": "code",
   "execution_count": 3,
   "metadata": {},
   "outputs": [
    {
     "data": {
      "text/plain": [
       "{'news_title': \"NASA's Mars 2020 Rover Completes Its First Drive\",\n",
       " 'news_p': 'In a 10-plus-hour marathon, the rover steered, turned and drove in 3-foot (1-meter) increments over small ramps.'}"
      ]
     },
     "execution_count": 3,
     "metadata": {},
     "output_type": "execute_result"
    }
   ],
   "source": [
    "url = 'https://redplanetscience.com/'\n",
    "\n",
    "browser.visit(url)\n",
    "\n",
    "time.sleep(1)\n",
    "\n",
    "news_page = browser.html\n",
    "\n",
    "\n",
    "soup = bs(news_page,'html.parser')\n",
    "\n",
    "#this gets all the headlines and teasers\n",
    "headlines = soup.find_all('div', {'class':'content_title'})\n",
    "teasers = soup.find_all('div', {'class':'article_teaser_body'})\n",
    "\n",
    "#create emptly lists to store the headline and teaser texts\n",
    "headline_texts = []\n",
    "teasers_texts =[]\n",
    "#populates the lists with just the text from the html elements\n",
    "for h in headlines:\n",
    "    headline_texts.append(h.get_text())\n",
    "for t in teasers:\n",
    "    teasers_texts.append(t.get_text())\n",
    "\n",
    "#selects the first article for a dictionary\n",
    "#note:this could have been done faster with find instead of find all but \n",
    "#this could be useful for more situations\n",
    "first_article = {'news_title':headline_texts[0],'news_p':teasers_texts[0]}\n",
    "\n",
    "first_article"
   ]
  },
  {
   "cell_type": "code",
   "execution_count": 4,
   "metadata": {},
   "outputs": [
    {
     "data": {
      "text/plain": [
       "'https://spaceimages-mars.com/image/featured/mars3.jpg'"
      ]
     },
     "execution_count": 4,
     "metadata": {},
     "output_type": "execute_result"
    }
   ],
   "source": [
    "url = 'https://spaceimages-mars.com/'\n",
    "\n",
    "browser.visit(url)\n",
    "time.sleep(1)\n",
    "\n",
    "page = browser.html\n",
    "soup = bs(page,'html.parser')\n",
    "\n",
    "#get the source of the header image which is the top banner picture\n",
    "featured_image = url+soup.find('img', 'headerimage')['src']\n",
    "featured_image"
   ]
  },
  {
   "cell_type": "code",
   "execution_count": 20,
   "metadata": {},
   "outputs": [
    {
     "data": {
      "text/plain": [
       "'<table border=\"1\" class=\"dataframe\">\\n  <thead>\\n    <tr style=\"text-align: right;\">\\n      <th></th>\\n      <th>0</th>\\n      <th>1</th>\\n    </tr>\\n  </thead>\\n  <tbody>\\n    <tr>\\n      <th>1</th>\\n      <td>Diameter:</td>\\n      <td>6,779 km</td>\\n    </tr>\\n    <tr>\\n      <th>2</th>\\n      <td>Mass:</td>\\n      <td>6.39 × 10^23 kg</td>\\n    </tr>\\n    <tr>\\n      <th>3</th>\\n      <td>Moons:</td>\\n      <td>2</td>\\n    </tr>\\n    <tr>\\n      <th>4</th>\\n      <td>Distance from Sun:</td>\\n      <td>227,943,824 km</td>\\n    </tr>\\n    <tr>\\n      <th>5</th>\\n      <td>Length of Year:</td>\\n      <td>687 Earth days</td>\\n    </tr>\\n    <tr>\\n      <th>6</th>\\n      <td>Temperature:</td>\\n      <td>-87 to -5 °C</td>\\n    </tr>\\n  </tbody>\\n</table>'"
      ]
     },
     "execution_count": 20,
     "metadata": {},
     "output_type": "execute_result"
    }
   ],
   "source": [
    "url = 'https://galaxyfacts-mars.com/'\n",
    "\n",
    "browser.visit(url)\n",
    "time.sleep(1)\n",
    "\n",
    "page = browser.html\n",
    "soup = bs(page,'html.parser')\n",
    "#find  the table\n",
    "table = soup.find('table','table')\n",
    "#put the table into a dataframe\n",
    "table_df = pd.read_html(str(table))[0]\n",
    "#remove unwanted data from table\n",
    "reduced_table_df = table_df.drop([2],axis =1).drop([0],axis=0)\n",
    "\n",
    "#export the table to html\n",
    "new_table = reduced_table_df.to_html()\n",
    "new_table\n"
   ]
  },
  {
   "cell_type": "code",
   "execution_count": 31,
   "metadata": {},
   "outputs": [
    {
     "data": {
      "text/plain": [
       "['https://marshemispheres.com/images/cerberus_enhanced.tif',\n",
       " 'https://marshemispheres.com/images/schiaparelli_enhanced.tif',\n",
       " 'https://marshemispheres.com/images/major_enhanced.tif',\n",
       " 'https://marshemispheres.com/images/marineris_enhanced.tif']"
      ]
     },
     "execution_count": 31,
     "metadata": {},
     "output_type": "execute_result"
    }
   ],
   "source": [
    "url = 'https://marshemispheres.com/'\n",
    "\n",
    "browser.visit(url)\n",
    "time.sleep(1)\n",
    "\n",
    "page = browser.html\n",
    "soup = bs(page,'html.parser')\n",
    "\n",
    "images = soup.find_all('img', {'class':'thumb'})\n",
    "\n",
    "image_urls =[]\n",
    "for image in images:\n",
    "    temp_string = image['src'].split('_')\n",
    "    image_urls.append(url+'images/'+temp_string[-3]+'_'+temp_string[-2])\n",
    "\n",
    "image_urls"
   ]
  },
  {
   "cell_type": "code",
   "execution_count": null,
   "metadata": {},
   "outputs": [],
   "source": []
  }
 ],
 "metadata": {
  "interpreter": {
   "hash": "6711ecc799db53f28c5017b3d9435a62f7f8fc5b6624c62280dc520d57f755ad"
  },
  "kernelspec": {
   "display_name": "Python 3.7.11 ('PythonDataCamp')",
   "language": "python",
   "name": "python3"
  },
  "language_info": {
   "codemirror_mode": {
    "name": "ipython",
    "version": 3
   },
   "file_extension": ".py",
   "mimetype": "text/x-python",
   "name": "python",
   "nbconvert_exporter": "python",
   "pygments_lexer": "ipython3",
   "version": "3.7.11"
  },
  "orig_nbformat": 4
 },
 "nbformat": 4,
 "nbformat_minor": 2
}
